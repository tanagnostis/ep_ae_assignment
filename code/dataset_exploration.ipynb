{
 "cells": [
  {
   "cell_type": "code",
   "execution_count": 1,
   "id": "4ae5bc6f",
   "metadata": {},
   "outputs": [],
   "source": [
    "import pandas as pd"
   ]
  },
  {
   "cell_type": "code",
   "execution_count": 2,
   "id": "0e4a7c5e",
   "metadata": {},
   "outputs": [],
   "source": [
    "data = pd.read_csv('../data/dataset.csv')"
   ]
  },
  {
   "cell_type": "code",
   "execution_count": 3,
   "id": "31673fce",
   "metadata": {},
   "outputs": [
    {
     "name": "stdout",
     "output_type": "stream",
     "text": [
      "<class 'pandas.core.frame.DataFrame'>\n",
      "RangeIndex: 4798 entries, 0 to 4797\n",
      "Data columns (total 19 columns):\n",
      " #   Column                    Non-Null Count  Dtype \n",
      "---  ------                    --------------  ----- \n",
      " 0   substring                 4798 non-null   int64 \n",
      " 1   client_name               4798 non-null   object\n",
      " 2   email                     4798 non-null   object\n",
      " 3   phone_number              4798 non-null   object\n",
      " 4   registration_date         4798 non-null   object\n",
      " 5   is_active                 4798 non-null   bool  \n",
      " 6   address                   4798 non-null   object\n",
      " 7   city                      4798 non-null   object\n",
      " 8   state_province            4798 non-null   object\n",
      " 9   zip_code                  4798 non-null   object\n",
      " 10  country                   4798 non-null   object\n",
      " 11  preferred_contact_method  4798 non-null   object\n",
      " 12  customer_segment          4798 non-null   object\n",
      " 13  marketing_opt_in          4798 non-null   bool  \n",
      " 14  birth_date                4798 non-null   object\n",
      " 15  balance_event_date        4798 non-null   object\n",
      " 16  acc_currency_code         4798 non-null   object\n",
      " 17  available_balance_delta   4798 non-null   object\n",
      " 18  available_balance         4798 non-null   object\n",
      "dtypes: bool(2), int64(1), object(16)\n",
      "memory usage: 646.7+ KB\n"
     ]
    }
   ],
   "source": [
    "data.info()"
   ]
  },
  {
   "cell_type": "code",
   "execution_count": 4,
   "id": "69775c7f",
   "metadata": {},
   "outputs": [
    {
     "data": {
      "application/vnd.microsoft.datawrangler.viewer.v0+json": {
       "columns": [
        {
         "name": "index",
         "rawType": "int64",
         "type": "integer"
        },
        {
         "name": "substring",
         "rawType": "int64",
         "type": "integer"
        },
        {
         "name": "client_name",
         "rawType": "object",
         "type": "string"
        },
        {
         "name": "email",
         "rawType": "object",
         "type": "string"
        },
        {
         "name": "phone_number",
         "rawType": "object",
         "type": "string"
        },
        {
         "name": "registration_date",
         "rawType": "object",
         "type": "string"
        },
        {
         "name": "is_active",
         "rawType": "bool",
         "type": "boolean"
        },
        {
         "name": "address",
         "rawType": "object",
         "type": "string"
        },
        {
         "name": "city",
         "rawType": "object",
         "type": "string"
        },
        {
         "name": "state_province",
         "rawType": "object",
         "type": "string"
        },
        {
         "name": "zip_code",
         "rawType": "object",
         "type": "string"
        },
        {
         "name": "country",
         "rawType": "object",
         "type": "string"
        },
        {
         "name": "preferred_contact_method",
         "rawType": "object",
         "type": "string"
        },
        {
         "name": "customer_segment",
         "rawType": "object",
         "type": "string"
        },
        {
         "name": "marketing_opt_in",
         "rawType": "bool",
         "type": "boolean"
        },
        {
         "name": "birth_date",
         "rawType": "object",
         "type": "string"
        },
        {
         "name": "balance_event_date",
         "rawType": "object",
         "type": "string"
        },
        {
         "name": "acc_currency_code",
         "rawType": "object",
         "type": "string"
        },
        {
         "name": "available_balance_delta",
         "rawType": "object",
         "type": "string"
        },
        {
         "name": "available_balance",
         "rawType": "object",
         "type": "string"
        }
       ],
       "ref": "dd9f90f6-4b2a-41e5-835f-331d648a0bd2",
       "rows": [
        [
         "0",
         "338699727",
         "Henry Ford",
         "henry.ford@example",
         "555-890-1234",
         "5 November, 2024, 16:22:46.444",
         "True",
         "555 Auto Way",
         "Dearborn",
         "MI",
         "48124",
         "USA",
         "Email",
         "Platinum",
         "True",
         "30 July, 1963",
         "27 May, 2025, 21:20",
         "EUR",
         "-105,19",
         "1,05"
        ],
        [
         "1",
         "338699727",
         "Henry Ford",
         "henry.ford@example",
         "555-890-1234",
         "5 November, 2024, 16:22:46.444",
         "True",
         "555 Auto Way",
         "Dearborn",
         "MI",
         "48124",
         "USA",
         "Email",
         "Platinum",
         "True",
         "30 July, 1963",
         "27 May, 2025, 21:20",
         "EUR",
         "1,05",
         "106,23"
        ],
        [
         "2",
         "338699727",
         "Henry Ford",
         "henry.ford@example",
         "555-890-1234",
         "5 November, 2024, 16:22:46.444",
         "True",
         "555 Auto Way",
         "Dearborn",
         "MI",
         "48124",
         "USA",
         "Email",
         "Platinum",
         "True",
         "30 July, 1963",
         "27 May, 2025, 21:20",
         "EUR",
         "104,5",
         "105,19"
        ],
        [
         "3",
         "813199545",
         "Jack Black",
         "jack.black@example.com",
         "555-012-3456",
         "1 February, 2025, 10:30:58.789",
         "True",
         "777 Rock N Roll",
         "Hollywood",
         "CA",
         "90028",
         "USA",
         "Email",
         "Bronze",
         "True",
         "28 August, 1969",
         "27 May, 2025, 20:40",
         "EUR",
         "-371,94",
         "2.177,78"
        ],
        [
         "4",
         "178059014",
         "Bob Johnson",
         "bob.johnson@example.com",
         "555-234-5678",
         "9 September, 2024, 05:05:18.555",
         "True",
         "456 Oak Ave",
         "Otherville",
         "NY",
         "10001",
         "USA",
         "Phone",
         "Silver",
         "True",
         "20 July, 1985",
         "27 May, 2025, 13:56",
         "EUR",
         "-165,5",
         "1,66"
        ]
       ],
       "shape": {
        "columns": 19,
        "rows": 5
       }
      },
      "text/html": [
       "<div>\n",
       "<style scoped>\n",
       "    .dataframe tbody tr th:only-of-type {\n",
       "        vertical-align: middle;\n",
       "    }\n",
       "\n",
       "    .dataframe tbody tr th {\n",
       "        vertical-align: top;\n",
       "    }\n",
       "\n",
       "    .dataframe thead th {\n",
       "        text-align: right;\n",
       "    }\n",
       "</style>\n",
       "<table border=\"1\" class=\"dataframe\">\n",
       "  <thead>\n",
       "    <tr style=\"text-align: right;\">\n",
       "      <th></th>\n",
       "      <th>substring</th>\n",
       "      <th>client_name</th>\n",
       "      <th>email</th>\n",
       "      <th>phone_number</th>\n",
       "      <th>registration_date</th>\n",
       "      <th>is_active</th>\n",
       "      <th>address</th>\n",
       "      <th>city</th>\n",
       "      <th>state_province</th>\n",
       "      <th>zip_code</th>\n",
       "      <th>country</th>\n",
       "      <th>preferred_contact_method</th>\n",
       "      <th>customer_segment</th>\n",
       "      <th>marketing_opt_in</th>\n",
       "      <th>birth_date</th>\n",
       "      <th>balance_event_date</th>\n",
       "      <th>acc_currency_code</th>\n",
       "      <th>available_balance_delta</th>\n",
       "      <th>available_balance</th>\n",
       "    </tr>\n",
       "  </thead>\n",
       "  <tbody>\n",
       "    <tr>\n",
       "      <th>0</th>\n",
       "      <td>338699727</td>\n",
       "      <td>Henry Ford</td>\n",
       "      <td>henry.ford@example</td>\n",
       "      <td>555-890-1234</td>\n",
       "      <td>5 November, 2024, 16:22:46.444</td>\n",
       "      <td>True</td>\n",
       "      <td>555 Auto Way</td>\n",
       "      <td>Dearborn</td>\n",
       "      <td>MI</td>\n",
       "      <td>48124</td>\n",
       "      <td>USA</td>\n",
       "      <td>Email</td>\n",
       "      <td>Platinum</td>\n",
       "      <td>True</td>\n",
       "      <td>30 July, 1963</td>\n",
       "      <td>27 May, 2025, 21:20</td>\n",
       "      <td>EUR</td>\n",
       "      <td>-105,19</td>\n",
       "      <td>1,05</td>\n",
       "    </tr>\n",
       "    <tr>\n",
       "      <th>1</th>\n",
       "      <td>338699727</td>\n",
       "      <td>Henry Ford</td>\n",
       "      <td>henry.ford@example</td>\n",
       "      <td>555-890-1234</td>\n",
       "      <td>5 November, 2024, 16:22:46.444</td>\n",
       "      <td>True</td>\n",
       "      <td>555 Auto Way</td>\n",
       "      <td>Dearborn</td>\n",
       "      <td>MI</td>\n",
       "      <td>48124</td>\n",
       "      <td>USA</td>\n",
       "      <td>Email</td>\n",
       "      <td>Platinum</td>\n",
       "      <td>True</td>\n",
       "      <td>30 July, 1963</td>\n",
       "      <td>27 May, 2025, 21:20</td>\n",
       "      <td>EUR</td>\n",
       "      <td>1,05</td>\n",
       "      <td>106,23</td>\n",
       "    </tr>\n",
       "    <tr>\n",
       "      <th>2</th>\n",
       "      <td>338699727</td>\n",
       "      <td>Henry Ford</td>\n",
       "      <td>henry.ford@example</td>\n",
       "      <td>555-890-1234</td>\n",
       "      <td>5 November, 2024, 16:22:46.444</td>\n",
       "      <td>True</td>\n",
       "      <td>555 Auto Way</td>\n",
       "      <td>Dearborn</td>\n",
       "      <td>MI</td>\n",
       "      <td>48124</td>\n",
       "      <td>USA</td>\n",
       "      <td>Email</td>\n",
       "      <td>Platinum</td>\n",
       "      <td>True</td>\n",
       "      <td>30 July, 1963</td>\n",
       "      <td>27 May, 2025, 21:20</td>\n",
       "      <td>EUR</td>\n",
       "      <td>104,5</td>\n",
       "      <td>105,19</td>\n",
       "    </tr>\n",
       "    <tr>\n",
       "      <th>3</th>\n",
       "      <td>813199545</td>\n",
       "      <td>Jack Black</td>\n",
       "      <td>jack.black@example.com</td>\n",
       "      <td>555-012-3456</td>\n",
       "      <td>1 February, 2025, 10:30:58.789</td>\n",
       "      <td>True</td>\n",
       "      <td>777 Rock N Roll</td>\n",
       "      <td>Hollywood</td>\n",
       "      <td>CA</td>\n",
       "      <td>90028</td>\n",
       "      <td>USA</td>\n",
       "      <td>Email</td>\n",
       "      <td>Bronze</td>\n",
       "      <td>True</td>\n",
       "      <td>28 August, 1969</td>\n",
       "      <td>27 May, 2025, 20:40</td>\n",
       "      <td>EUR</td>\n",
       "      <td>-371,94</td>\n",
       "      <td>2.177,78</td>\n",
       "    </tr>\n",
       "    <tr>\n",
       "      <th>4</th>\n",
       "      <td>178059014</td>\n",
       "      <td>Bob Johnson</td>\n",
       "      <td>bob.johnson@example.com</td>\n",
       "      <td>555-234-5678</td>\n",
       "      <td>9 September, 2024, 05:05:18.555</td>\n",
       "      <td>True</td>\n",
       "      <td>456 Oak Ave</td>\n",
       "      <td>Otherville</td>\n",
       "      <td>NY</td>\n",
       "      <td>10001</td>\n",
       "      <td>USA</td>\n",
       "      <td>Phone</td>\n",
       "      <td>Silver</td>\n",
       "      <td>True</td>\n",
       "      <td>20 July, 1985</td>\n",
       "      <td>27 May, 2025, 13:56</td>\n",
       "      <td>EUR</td>\n",
       "      <td>-165,5</td>\n",
       "      <td>1,66</td>\n",
       "    </tr>\n",
       "  </tbody>\n",
       "</table>\n",
       "</div>"
      ],
      "text/plain": [
       "   substring  client_name                    email  phone_number  \\\n",
       "0  338699727   Henry Ford       henry.ford@example  555-890-1234   \n",
       "1  338699727   Henry Ford       henry.ford@example  555-890-1234   \n",
       "2  338699727   Henry Ford       henry.ford@example  555-890-1234   \n",
       "3  813199545   Jack Black   jack.black@example.com  555-012-3456   \n",
       "4  178059014  Bob Johnson  bob.johnson@example.com  555-234-5678   \n",
       "\n",
       "                 registration_date  is_active          address        city  \\\n",
       "0   5 November, 2024, 16:22:46.444       True     555 Auto Way    Dearborn   \n",
       "1   5 November, 2024, 16:22:46.444       True     555 Auto Way    Dearborn   \n",
       "2   5 November, 2024, 16:22:46.444       True     555 Auto Way    Dearborn   \n",
       "3   1 February, 2025, 10:30:58.789       True  777 Rock N Roll   Hollywood   \n",
       "4  9 September, 2024, 05:05:18.555       True      456 Oak Ave  Otherville   \n",
       "\n",
       "  state_province zip_code country preferred_contact_method customer_segment  \\\n",
       "0             MI    48124     USA                    Email         Platinum   \n",
       "1             MI    48124     USA                    Email         Platinum   \n",
       "2             MI    48124     USA                    Email         Platinum   \n",
       "3             CA    90028     USA                    Email           Bronze   \n",
       "4             NY    10001     USA                    Phone           Silver   \n",
       "\n",
       "   marketing_opt_in       birth_date   balance_event_date acc_currency_code  \\\n",
       "0              True    30 July, 1963  27 May, 2025, 21:20               EUR   \n",
       "1              True    30 July, 1963  27 May, 2025, 21:20               EUR   \n",
       "2              True    30 July, 1963  27 May, 2025, 21:20               EUR   \n",
       "3              True  28 August, 1969  27 May, 2025, 20:40               EUR   \n",
       "4              True    20 July, 1985  27 May, 2025, 13:56               EUR   \n",
       "\n",
       "  available_balance_delta available_balance  \n",
       "0                 -105,19              1,05  \n",
       "1                    1,05            106,23  \n",
       "2                   104,5            105,19  \n",
       "3                 -371,94          2.177,78  \n",
       "4                  -165,5              1,66  "
      ]
     },
     "execution_count": 4,
     "metadata": {},
     "output_type": "execute_result"
    }
   ],
   "source": [
    "data.head()"
   ]
  }
 ],
 "metadata": {
  "kernelspec": {
   "display_name": "base",
   "language": "python",
   "name": "python3"
  },
  "language_info": {
   "codemirror_mode": {
    "name": "ipython",
    "version": 3
   },
   "file_extension": ".py",
   "mimetype": "text/x-python",
   "name": "python",
   "nbconvert_exporter": "python",
   "pygments_lexer": "ipython3",
   "version": "3.10.9"
  }
 },
 "nbformat": 4,
 "nbformat_minor": 5
}
